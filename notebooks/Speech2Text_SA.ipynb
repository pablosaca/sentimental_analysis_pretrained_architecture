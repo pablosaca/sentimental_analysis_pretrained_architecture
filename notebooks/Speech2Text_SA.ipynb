{
 "cells": [
  {
   "cell_type": "markdown",
   "id": "1dbfbcc0-757c-4257-987d-bdc56d0eed1f",
   "metadata": {},
   "source": [
    "# Tratamiento de textos con modelos pre-entrenados\n",
    "\n",
    "## Análisis de Sentimientos\n",
    "\n",
    "A partir de los audios transcritos, se emplea el siguiente modelo para predecir el sentimiento de la oración.\n",
    "\n",
    "- Modelo utilizado: https://huggingface.co/siebert/sentiment-roberta-large-english"
   ]
  },
  {
   "cell_type": "code",
   "execution_count": 1,
   "id": "3a7a4290-0911-4afe-9bbb-8a04b0ce4c33",
   "metadata": {},
   "outputs": [],
   "source": [
    "import pandas as pd\n",
    "import json\n",
    "\n",
    "with open('../audios/speech2text_audios.json') as f:\n",
    "    data = json.load(f)"
   ]
  },
  {
   "cell_type": "code",
   "execution_count": 6,
   "id": "922ee225-0096-403a-a22c-e7e503a2c2b1",
   "metadata": {},
   "outputs": [
    {
     "name": "stderr",
     "output_type": "stream",
     "text": [
      "All model checkpoint layers were used when initializing TFRobertaForSequenceClassification.\n",
      "\n",
      "All the layers of TFRobertaForSequenceClassification were initialized from the model checkpoint at siebert/sentiment-roberta-large-english.\n",
      "If your task is similar to the task the model of the checkpoint was trained on, you can already use TFRobertaForSequenceClassification for predictions without further training.\n"
     ]
    }
   ],
   "source": [
    "from transformers import pipeline\n",
    "sentiment_analysis = pipeline(\"sentiment-analysis\", model=\"siebert/sentiment-roberta-large-english\")"
   ]
  },
  {
   "cell_type": "markdown",
   "id": "b04d04ee-cfa6-41c8-92f8-909f67ee21d8",
   "metadata": {},
   "source": [
    "Aplicación del modelo:"
   ]
  },
  {
   "cell_type": "code",
   "execution_count": null,
   "id": "a4296add-213c-47d7-84ea-84ce87a850ca",
   "metadata": {},
   "outputs": [],
   "source": [
    "results_dict = {}\n",
    "for name, text in data.items():\n",
    "    text = text.strip() # quitar espacios delante y atrás del text\n",
    "    \n",
    "    d = sentiment_analysis(text)[0] # el resultado es una lista de diccionarios (la lista es de un único elemento)\n",
    "    d[\"text\"] = text # añadimos el texto al diccionario que nos proporciona las predicciones \n",
    "    results_dict[name] = d"
   ]
  },
  {
   "cell_type": "code",
   "execution_count": null,
   "id": "03011bd2-9d92-4df0-bad3-641f32462514",
   "metadata": {},
   "outputs": [],
   "source": [
    "pd.DataFrame(results_dict).T"
   ]
  }
 ],
 "metadata": {
  "kernelspec": {
   "display_name": "sa_s2t",
   "language": "python",
   "name": "sa_s2t"
  },
  "language_info": {
   "codemirror_mode": {
    "name": "ipython",
    "version": 3
   },
   "file_extension": ".py",
   "mimetype": "text/x-python",
   "name": "python",
   "nbconvert_exporter": "python",
   "pygments_lexer": "ipython3",
   "version": "3.10.14"
  }
 },
 "nbformat": 4,
 "nbformat_minor": 5
}
